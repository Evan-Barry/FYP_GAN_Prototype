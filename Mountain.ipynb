{
  "nbformat": 4,
  "nbformat_minor": 0,
  "metadata": {
    "colab": {
      "name": "Mountain.ipynb",
      "provenance": [],
      "collapsed_sections": [],
      "authorship_tag": "ABX9TyNuuncqWsVStRQf24+ahukc",
      "include_colab_link": true
    },
    "kernelspec": {
      "name": "python3",
      "display_name": "Python 3"
    }
  },
  "cells": [
    {
      "cell_type": "markdown",
      "metadata": {
        "id": "view-in-github",
        "colab_type": "text"
      },
      "source": [
        "<a href=\"https://colab.research.google.com/github/Evan-Barry/GYP_GAN_Prototype/blob/main/Mountain.ipynb\" target=\"_parent\"><img src=\"https://colab.research.google.com/assets/colab-badge.svg\" alt=\"Open In Colab\"/></a>"
      ]
    },
    {
      "cell_type": "code",
      "metadata": {
        "id": "X-6PYmk_7-6C"
      },
      "source": [
        ""
      ],
      "execution_count": null,
      "outputs": []
    },
    {
      "cell_type": "markdown",
      "metadata": {
        "id": "heX20eiO9AnY"
      },
      "source": [
        "**Imports**"
      ]
    },
    {
      "cell_type": "code",
      "metadata": {
        "id": "eabfMtdG9Fbz"
      },
      "source": [
        "# Imports\n",
        "\n",
        "import numpy as np\n",
        "from numpy import random\n",
        "from matplotlib import pyplot as plt\n",
        "%matplotlib inline"
      ],
      "execution_count": 3,
      "outputs": []
    },
    {
      "cell_type": "markdown",
      "metadata": {
        "id": "SqqstyTj9N-Q"
      },
      "source": [
        "**Plotting Function**"
      ]
    },
    {
      "cell_type": "code",
      "metadata": {
        "id": "3lJcSNZU9MIk"
      },
      "source": [
        "# Drawing function\n",
        "\n",
        "def view_samples(samples, m, n):\n",
        "    fig, axes = plt.subplots(figsize=(10, 10), nrows=m, ncols=n, sharey=True, sharex=True)\n",
        "    for ax, img in zip(axes.flatten(), samples):\n",
        "        ax.xaxis.set_visible(False)\n",
        "        ax.yaxis.set_visible(False)\n",
        "        im = ax.imshow(1-img.reshape((3,3)), cmap='Greys_r')  \n",
        "    return fig, axes"
      ],
      "execution_count": 10,
      "outputs": []
    },
    {
      "cell_type": "markdown",
      "metadata": {
        "id": "TxkTaGRc9WKa"
      },
      "source": [
        "**Examples of Mounatains**"
      ]
    },
    {
      "cell_type": "code",
      "metadata": {
        "colab": {
          "base_uri": "https://localhost:8080/",
          "height": 156
        },
        "id": "ZgsoSpWm9Vr3",
        "outputId": "835e8241-c30e-4686-c00e-d697db946be9"
      },
      "source": [
        "# Examples of mountains\n",
        "faces = [np.array([0.2,0.3,0.3,0.1,0.8,0.2,0.4,0.1,0.3]),\n",
        "         np.array([0,0.1,0,0.1,0.9,0.1,0,0.1,0]),\n",
        "         np.array([0.1,0.3,0.1,0.3,1,0.3,0.1,0.3,0.1]),\n",
        "         np.array([0.49,0.51,0.49,0.51,0.95,0.49,0.51,0.49,0.51])]\n",
        "    \n",
        "_ = view_samples(faces, 1, 4)"
      ],
      "execution_count": 37,
      "outputs": [
        {
          "output_type": "display_data",
          "data": {
            "image/png": "[encoded data removed]",
            "text/plain": [
              "<Figure size 720x720 with 4 Axes>"
            ]
          },
          "metadata": {
            "tags": [],
            "needs_background": "light"
          }
        }
      ]
    },
    {
      "cell_type": "markdown",
      "metadata": {
        "id": "VhbkFxHeewF7"
      },
      "source": [
        "**Examples of Noise**"
      ]
    },
    {
      "cell_type": "code",
      "metadata": {
        "colab": {
          "base_uri": "https://localhost:8080/",
          "height": 556
        },
        "id": "u6dKdFnr9SnK",
        "outputId": "ad703b91-e9b8-4939-8415-60341ac6f8f7"
      },
      "source": [
        "# Examples of noisy images\n",
        "noise = [np.random.randn(3,3) for i in range(20)]\n",
        "def generate_random_image():\n",
        "    return [np.random.random(), np.random.random(), np.random.random(), np.random.random()]\n",
        "\n",
        "_ = view_samples(noise, 4,5)"
      ],
      "execution_count": 14,
      "outputs": [
        {
          "output_type": "display_data",
          "data": {
            "image/png": "[encoded data removed]",
            "text/plain": [
              "<Figure size 720x720 with 20 Axes>"
            ]
          },
          "metadata": {
            "tags": [],
            "needs_background": "light"
          }
        }
      ]
    },
    {
      "cell_type": "markdown",
      "metadata": {
        "id": "ial3hh8zfZz0"
      },
      "source": [
        "**Building the Neural Networks"
      ]
    },
    {
      "cell_type": "code",
      "metadata": {
        "id": "LmKf3clve3u-"
      },
      "source": [
        "# The sigmoid activation function\n",
        "def sigmoid(x):\n",
        "  return np.exp(x)/(1.0+np.exp(x))"
      ],
      "execution_count": 20,
      "outputs": []
    },
    {
      "cell_type": "markdown",
      "metadata": {
        "id": "Ow6vDOMqfpLN"
      },
      "source": [
        "**The Discriminator**"
      ]
    },
    {
      "cell_type": "code",
      "metadata": {
        "id": "TKxO9tRYfnrI"
      },
      "source": [
        "class Discriminator():\n",
        "  def __init__(self):\n",
        "    self.weights = np.array([np.random.normal() for i in range(9)])\n",
        "    self.bias = np.random.normal()\n",
        "\n",
        "  def forward(self, x):\n",
        "    return sigmoid(np.dot(x, self.weights) + self.bias)\n",
        "\n",
        "  def error_from_image(self, image):\n",
        "    prediction = self.forward(image)\n",
        "    return -np.log(prediction)\n",
        "\n",
        "  def derivative_from_image(self, image):\n",
        "    prediction = self.forward(image)\n",
        "    derivatives_weights = -image * (1-prediction)\n",
        "    derivatives_bias = -(1-prediction)\n",
        "    return derivatives_weights, derivatives_bias\n",
        "\n",
        "  def update_from_image(self, x):\n",
        "    ders = self.derivative_from_image(x)\n",
        "    self.weights -= learning_rate * ders[0]\n",
        "    self.bias -= learning_rate * ders[1]\n",
        "\n",
        "  def error_from_noise(self, noise):\n",
        "    prediction = self.forward(noise)\n",
        "    return -np.log(1-prediction)\n",
        "\n",
        "  def derivative_from_noise(self, noise):\n",
        "    prediction = self.forward(noise)\n",
        "    derivatives_weights = noise * prediction\n",
        "    derivatives_bias = prediction\n",
        "    return derivatives_weights, derivatives_bias\n",
        "\n",
        "  def update_from_noise(self, noise):\n",
        "    ders = self.derivative_from_noise(noise)\n",
        "    self.weights -= learning_rate * ders[0]\n",
        "    self.bias -= learning_rate * ders[1]"
      ],
      "execution_count": 24,
      "outputs": []
    },
    {
      "cell_type": "markdown",
      "metadata": {
        "id": "he4bYaTzuC0x"
      },
      "source": [
        "**The Generator**"
      ]
    },
    {
      "cell_type": "code",
      "metadata": {
        "id": "d7QUYtl9kec7"
      },
      "source": [
        "class Generator():\n",
        "  def __init__(self):\n",
        "    self.weights = np.array([np.random.normal() for i in range(9)])\n",
        "    self.biases = np.array([np.random.normal() for i in range(9)])\n",
        "\n",
        "  def forward(self, z):\n",
        "    return sigmoid(z * self.weights + self.biases)\n",
        "\n",
        "  def error(self, z, discriminator):\n",
        "    x = self.forward(z)\n",
        "    y = discriminator.forward(x)\n",
        "    return -np.log(y)\n",
        "\n",
        "  def derivatives(self, z, discriminator):\n",
        "    discriminator_weights = discriminator.weights\n",
        "    discriminator_bias = discriminator.bias\n",
        "    x = self.forward(z)\n",
        "    y = discriminator.forward(x)\n",
        "    factor = -(1-y) * discriminator_weights * x * (1-x)\n",
        "    derivative_weights = factor * z\n",
        "    derivative_bias = factor\n",
        "    return derivative_weights, derivative_bias\n",
        "\n",
        "  def update(self, z, discriminator):\n",
        "    error_before = self.error(z, discriminator)\n",
        "    ders = self.derivatives(z, discriminator)\n",
        "    self.weights -= learning_rate * ders[0]\n",
        "    self.biases -= learning_rate * ders[1]\n",
        "    error_after = self.error(z, discriminator)"
      ],
      "execution_count": 30,
      "outputs": []
    },
    {
      "cell_type": "markdown",
      "metadata": {
        "id": "c8DsGDAEzFrP"
      },
      "source": [
        "**Training**"
      ]
    },
    {
      "cell_type": "code",
      "metadata": {
        "id": "7z0YYgicyQQx"
      },
      "source": [
        "# Set Random Seed\n",
        "np.random.seed(42)\n",
        "\n",
        "learning_rate = 0.01\n",
        "epochs = 1000\n",
        "\n",
        "# The GAN\n",
        "D = Discriminator()\n",
        "G = Generator()\n",
        "\n",
        "errors_discriminator = []\n",
        "errors_generator = []\n",
        "\n",
        "for epoch in range(epochs):\n",
        "  for face in faces:\n",
        "    D.update_from_image(face)\n",
        "\n",
        "    z = random.rand()\n",
        "\n",
        "    errors_discriminator.append(sum(D.error_from_image(face) + D.error_from_noise(z)))\n",
        "\n",
        "    errors_generator.append(G.error(z, D))\n",
        "\n",
        "    noise = G.forward(z)\n",
        "\n",
        "    D.update_from_noise(noise)\n",
        "\n",
        "    G.update(z,D)"
      ],
      "execution_count": 38,
      "outputs": []
    },
    {
      "cell_type": "code",
      "metadata": {
        "colab": {
          "base_uri": "https://localhost:8080/",
          "height": 562
        },
        "id": "d98Ov__Q0mAy",
        "outputId": "6e1debbb-adbe-48e8-e7be-e2b5df02c45b"
      },
      "source": [
        "import matplotlib.pyplot as plt\n",
        "plt.plot(errors_generator)\n",
        "plt.title(\"Generator error function\")\n",
        "plt.legend(\"gen\")\n",
        "plt.show()\n",
        "plt.plot(errors_discriminator)\n",
        "plt.legend('disc')\n",
        "plt.title(\"Discriminaotr error function\")"
      ],
      "execution_count": 39,
      "outputs": [
        {
          "output_type": "display_data",
          "data": {
            "image/png": "[encoded data removed]",
            "text/plain": [
              "<Figure size 432x288 with 1 Axes>"
            ]
          },
          "metadata": {
            "tags": [],
            "needs_background": "light"
          }
        },
        {
          "output_type": "execute_result",
          "data": {
            "text/plain": [
              "Text(0.5, 1.0, 'Discriminaotr error function')"
            ]
          },
          "metadata": {
            "tags": []
          },
          "execution_count": 39
        },
        {
          "output_type": "display_data",
          "data": {
            "image/png": "[encoded data removed]",
            "text/plain": [
              "<Figure size 432x288 with 1 Axes>"
            ]
          },
          "metadata": {
            "tags": [],
            "needs_background": "light"
          }
        }
      ]
    },
    {
      "cell_type": "markdown",
      "metadata": {
        "id": "loLUtHxB1Idu"
      },
      "source": [
        "**Generated Images**"
      ]
    },
    {
      "cell_type": "code",
      "metadata": {
        "colab": {
          "base_uri": "https://localhost:8080/",
          "height": 290
        },
        "id": "vb3ENM8e1HzJ",
        "outputId": "a9bcd32c-5265-4f72-af56-b07c286ffbf0"
      },
      "source": [
        "generated_images = []\n",
        "for i in range(4):\n",
        "  z = random.random()\n",
        "  generated_image = G.forward(z)\n",
        "  generated_images.append(generated_image)\n",
        "_ = view_samples(generated_images, 1, 4)\n",
        "for i in generated_images:\n",
        "  print(i)"
      ],
      "execution_count": 40,
      "outputs": [
        {
          "output_type": "stream",
          "text": [
            "[0.23231669 0.18266493 0.1740296  0.21107329 0.9646897  0.3968306\n",
            " 0.17968482 0.15155164 0.21928642]\n",
            "[0.18099558 0.04275334 0.12987624 0.03128049 0.97646028 0.29487956\n",
            " 0.04847012 0.15797612 0.06179774]\n",
            "[0.2277368  0.16371268 0.16999091 0.18355919 0.96584144 0.38794379\n",
            " 0.16267221 0.15207194 0.19954586]\n",
            "[0.18120842 0.04305522 0.1300542  0.03157435 0.97641642 0.29530987\n",
            " 0.04877818 0.15794629 0.06218275]\n"
          ],
          "name": "stdout"
        },
        {
          "output_type": "display_data",
          "data": {
            "image/png": "[encoded data removed]",
            "text/plain": [
              "<Figure size 720x720 with 4 Axes>"
            ]
          },
          "metadata": {
            "tags": [],
            "needs_background": "light"
          }
        }
      ]
    },
    {
      "cell_type": "markdown",
      "metadata": {
        "id": "mHSXDrjo2Icl"
      },
      "source": [
        "**Studying the weights and biases of the Generator and Discriminator**"
      ]
    },
    {
      "cell_type": "code",
      "metadata": {
        "colab": {
          "base_uri": "https://localhost:8080/"
        },
        "id": "3lrnqhSR2Mqu",
        "outputId": "12c8790a-06ec-4ee0-dcd0-83404b384927"
      },
      "source": [
        "print(\"Generator Weights\" , G.weights)\n",
        "print(\"Generator Biases\" , G.biases)"
      ],
      "execution_count": 42,
      "outputs": [
        {
          "output_type": "stream",
          "text": [
            "Generator Weights [-0.34491723 -1.76684504 -0.37825107 -2.32019264  0.45823477 -0.49718767\n",
            " -1.60052219  0.05389604 -1.59133776]\n",
            "Generator Biases [-1.16725828 -1.35487546 -1.52660833 -1.12999962  3.27040946 -0.37830221\n",
            " -1.38847445 -1.72686072 -1.14056581]\n"
          ],
          "name": "stdout"
        }
      ]
    },
    {
      "cell_type": "code",
      "metadata": {
        "colab": {
          "base_uri": "https://localhost:8080/"
        },
        "id": "GEugzt2J2c7z",
        "outputId": "78d49dc9-d6f3-4ff8-8601-1f7ccdf7d04a"
      },
      "source": [
        "print(\"Discriminator Weights\" , D.weights)\n",
        "print(\"Discriminator Biases\" , D.bias)"
      ],
      "execution_count": 44,
      "outputs": [
        {
          "output_type": "stream",
          "text": [
            "Discriminator Weights [-0.60714091  1.21281787  0.23618481 -0.76811589  1.73019454  0.58714412\n",
            " -0.4438077  -0.24327453  0.96323398]\n",
            "Discriminator Biases -1.8593055249540622\n"
          ],
          "name": "stdout"
        }
      ]
    }
  ]
}