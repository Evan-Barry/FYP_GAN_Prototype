{
  "nbformat": 4,
  "nbformat_minor": 0,
  "metadata": {
    "colab": {
      "name": "Brick.ipynb",
      "provenance": [],
      "collapsed_sections": [],
      "authorship_tag": "ABX9TyNiHxZSoVHHaGyGuImjQ7sD",
      "include_colab_link": true
    },
    "kernelspec": {
      "name": "python3",
      "display_name": "Python 3"
    }
  },
  "cells": [
    {
      "cell_type": "markdown",
      "metadata": {
        "id": "view-in-github",
        "colab_type": "text"
      },
      "source": [
        "<a href=\"https://colab.research.google.com/github/Evan-Barry/FYP_GAN_Prototype/blob/main/Brick.ipynb\" target=\"_parent\"><img src=\"https://colab.research.google.com/assets/colab-badge.svg\" alt=\"Open In Colab\"/></a>"
      ]
    },
    {
      "cell_type": "code",
      "metadata": {
        "id": "X-6PYmk_7-6C"
      },
      "source": [
        ""
      ],
      "execution_count": null,
      "outputs": []
    },
    {
      "cell_type": "markdown",
      "metadata": {
        "id": "heX20eiO9AnY"
      },
      "source": [
        "**Imports**"
      ]
    },
    {
      "cell_type": "code",
      "metadata": {
        "id": "eabfMtdG9Fbz"
      },
      "source": [
        "# Imports\n",
        "\n",
        "import numpy as np\n",
        "from numpy import random\n",
        "from matplotlib import pyplot as plt\n",
        "%matplotlib inline\n",
        "from PIL import Image"
      ],
      "execution_count": 5,
      "outputs": []
    },
    {
      "cell_type": "code",
      "metadata": {
        "id": "lunDtG5EMTjJ"
      },
      "source": [
        ""
      ],
      "execution_count": null,
      "outputs": []
    },
    {
      "cell_type": "markdown",
      "metadata": {
        "id": "SqqstyTj9N-Q"
      },
      "source": [
        "**Plotting Function**"
      ]
    },
    {
      "cell_type": "code",
      "metadata": {
        "id": "3lJcSNZU9MIk"
      },
      "source": [
        "# Drawing function\n",
        "\n",
        "def view_samples(samples, m, n):\n",
        "    fig, axes = plt.subplots(figsize=(10, 10), nrows=m, ncols=n, sharey=True, sharex=True)\n",
        "    for ax, img in zip(axes.flatten(), samples):\n",
        "        ax.xaxis.set_visible(False)\n",
        "        ax.yaxis.set_visible(False)\n",
        "        im = ax.imshow(1-img.reshape((10,10)), cmap='Greys_r')  \n",
        "    return fig, axes"
      ],
      "execution_count": 6,
      "outputs": []
    },
    {
      "cell_type": "markdown",
      "metadata": {
        "id": "TxkTaGRc9WKa"
      },
      "source": [
        "**Examples of Mounatains**"
      ]
    },
    {
      "cell_type": "code",
      "metadata": {
        "colab": {
          "base_uri": "https://localhost:8080/",
          "height": 288
        },
        "id": "ZgsoSpWm9Vr3",
        "outputId": "5be3a851-9e3e-4d1c-cd51-99a6520293f6"
      },
      "source": [
        "# Examples of mountains\n",
        "faces = [np.array([0,0,1,0,0,0,0,1,0,0,0,0,1,0,0,0,0,1,0,0,1,1,1,1,1,1,1,1,1,1,0,0,0,0,1,0,0,0,0,1,0,0,0,0,1,0,0,0,0,1,1,1,1,1,1,1,1,1,1,1,0,0,0,1,0,0,0,0,1,0,0,0,0,1,0,0,0,0,1,0,1,1,1,1,1,1,1,1,1,1,0,0,0,0,1,0,0,0,0,1]),\n",
        "         np.array([0,0,0,1,0,0,0,0,1,0,0,0,0,1,0,0,0,0,1,0,1,1,1,1,1,1,1,1,1,1,0,0,0,1,0,0,0,0,1,0,0,0,0,1,0,0,0,0,1,0,1,1,1,1,1,1,1,1,1,1,0,1,0,0,0,0,1,0,0,0,0,1,0,0,0,0,1,0,0,0,1,1,1,1,1,1,1,1,1,1,0,0,0,1,0,0,0,0,1,0])]\n",
        "    \n",
        "_ = view_samples(faces, 1, 2)"
      ],
      "execution_count": 11,
      "outputs": [
        {
          "output_type": "display_data",
          "data": {
            "image/png": "[encoded data removed]",
            "text/plain": [
              "<Figure size 720x720 with 2 Axes>"
            ]
          },
          "metadata": {
            "tags": [],
            "needs_background": "light"
          }
        }
      ]
    },
    {
      "cell_type": "markdown",
      "metadata": {
        "id": "VhbkFxHeewF7"
      },
      "source": [
        "**Examples of Noise**"
      ]
    },
    {
      "cell_type": "code",
      "metadata": {
        "colab": {
          "base_uri": "https://localhost:8080/",
          "height": 556
        },
        "id": "u6dKdFnr9SnK",
        "outputId": "4c4d32f6-5954-4d89-8672-65fd32dcdb35"
      },
      "source": [
        "# Examples of noisy images\n",
        "noise = [np.random.randn(10,10) for i in range(20)]\n",
        "def generate_random_image():\n",
        "    return [np.random.random(), np.random.random(), np.random.random(), np.random.random()]\n",
        "\n",
        "_ = view_samples(noise, 4,5)"
      ],
      "execution_count": 14,
      "outputs": [
        {
          "output_type": "display_data",
          "data": {
            "image/png": "[encoded data removed]",
            "text/plain": [
              "<Figure size 720x720 with 20 Axes>"
            ]
          },
          "metadata": {
            "tags": [],
            "needs_background": "light"
          }
        }
      ]
    },
    {
      "cell_type": "markdown",
      "metadata": {
        "id": "ial3hh8zfZz0"
      },
      "source": [
        "**Building the Neural Networks"
      ]
    },
    {
      "cell_type": "code",
      "metadata": {
        "id": "LmKf3clve3u-"
      },
      "source": [
        "# The sigmoid activation function\n",
        "def sigmoid(x):\n",
        "  return np.exp(x)/(1.0+np.exp(x))"
      ],
      "execution_count": 15,
      "outputs": []
    },
    {
      "cell_type": "markdown",
      "metadata": {
        "id": "Ow6vDOMqfpLN"
      },
      "source": [
        "**The Discriminator**"
      ]
    },
    {
      "cell_type": "code",
      "metadata": {
        "id": "TKxO9tRYfnrI"
      },
      "source": [
        "class Discriminator():\n",
        "  def __init__(self):\n",
        "    self.weights = np.array([np.random.normal() for i in range(100)])\n",
        "    self.bias = np.random.normal()\n",
        "\n",
        "  def forward(self, x):\n",
        "    return sigmoid(np.dot(x, self.weights) + self.bias)\n",
        "\n",
        "  def error_from_image(self, image):\n",
        "    prediction = self.forward(image)\n",
        "    return -np.log(prediction)\n",
        "\n",
        "  def derivative_from_image(self, image):\n",
        "    prediction = self.forward(image)\n",
        "    derivatives_weights = -image * (1-prediction)\n",
        "    derivatives_bias = -(1-prediction)\n",
        "    return derivatives_weights, derivatives_bias\n",
        "\n",
        "  def update_from_image(self, x):\n",
        "    ders = self.derivative_from_image(x)\n",
        "    self.weights -= learning_rate * ders[0]\n",
        "    self.bias -= learning_rate * ders[1]\n",
        "\n",
        "  def error_from_noise(self, noise):\n",
        "    prediction = self.forward(noise)\n",
        "    return -np.log(1-prediction)\n",
        "\n",
        "  def derivative_from_noise(self, noise):\n",
        "    prediction = self.forward(noise)\n",
        "    derivatives_weights = noise * prediction\n",
        "    derivatives_bias = prediction\n",
        "    return derivatives_weights, derivatives_bias\n",
        "\n",
        "  def update_from_noise(self, noise):\n",
        "    ders = self.derivative_from_noise(noise)\n",
        "    self.weights -= learning_rate * ders[0]\n",
        "    self.bias -= learning_rate * ders[1]"
      ],
      "execution_count": 20,
      "outputs": []
    },
    {
      "cell_type": "markdown",
      "metadata": {
        "id": "he4bYaTzuC0x"
      },
      "source": [
        "**The Generator**"
      ]
    },
    {
      "cell_type": "code",
      "metadata": {
        "id": "d7QUYtl9kec7"
      },
      "source": [
        "class Generator():\n",
        "  def __init__(self):\n",
        "    self.weights = np.array([np.random.normal() for i in range(100)])\n",
        "    self.biases = np.array([np.random.normal() for i in range(100)])\n",
        "\n",
        "  def forward(self, z):\n",
        "    return sigmoid(z * self.weights + self.biases)\n",
        "\n",
        "  def error(self, z, discriminator):\n",
        "    x = self.forward(z)\n",
        "    y = discriminator.forward(x)\n",
        "    return -np.log(y)\n",
        "\n",
        "  def derivatives(self, z, discriminator):\n",
        "    discriminator_weights = discriminator.weights\n",
        "    discriminator_bias = discriminator.bias\n",
        "    x = self.forward(z)\n",
        "    y = discriminator.forward(x)\n",
        "    factor = -(1-y) * discriminator_weights * x * (1-x)\n",
        "    derivative_weights = factor * z\n",
        "    derivative_bias = factor\n",
        "    return derivative_weights, derivative_bias\n",
        "\n",
        "  def update(self, z, discriminator):\n",
        "    error_before = self.error(z, discriminator)\n",
        "    ders = self.derivatives(z, discriminator)\n",
        "    self.weights -= learning_rate * ders[0]\n",
        "    self.biases -= learning_rate * ders[1]\n",
        "    error_after = self.error(z, discriminator)"
      ],
      "execution_count": 21,
      "outputs": []
    },
    {
      "cell_type": "markdown",
      "metadata": {
        "id": "c8DsGDAEzFrP"
      },
      "source": [
        "**Training**"
      ]
    },
    {
      "cell_type": "code",
      "metadata": {
        "id": "7z0YYgicyQQx"
      },
      "source": [
        "# Set Random Seed\n",
        "np.random.seed(100)\n",
        "\n",
        "learning_rate = 0.01\n",
        "epochs = 100000\n",
        "\n",
        "# The GAN\n",
        "D = Discriminator()\n",
        "G = Generator()\n",
        "\n",
        "errors_discriminator = []\n",
        "errors_generator = []\n",
        "\n",
        "for epoch in range(epochs):\n",
        "  for face in faces:\n",
        "    D.update_from_image(face)\n",
        "\n",
        "    z = random.rand()\n",
        "\n",
        "    errors_discriminator.append(sum(D.error_from_image(face) + D.error_from_noise(z)))\n",
        "\n",
        "    errors_generator.append(G.error(z, D))\n",
        "\n",
        "    noise = G.forward(z)\n",
        "\n",
        "    D.update_from_noise(noise)\n",
        "\n",
        "    G.update(z,D)"
      ],
      "execution_count": 36,
      "outputs": []
    },
    {
      "cell_type": "code",
      "metadata": {
        "colab": {
          "base_uri": "https://localhost:8080/",
          "height": 562
        },
        "id": "d98Ov__Q0mAy",
        "outputId": "9975be17-044b-4574-9355-a7311dde8666"
      },
      "source": [
        "import matplotlib.pyplot as plt\n",
        "plt.plot(errors_generator)\n",
        "plt.title(\"Generator error function\")\n",
        "plt.legend(\"gen\")\n",
        "plt.show()\n",
        "plt.plot(errors_discriminator)\n",
        "plt.legend('disc')\n",
        "plt.title(\"Discriminaotr error function\")"
      ],
      "execution_count": 37,
      "outputs": [
        {
          "output_type": "display_data",
          "data": {
            "image/png": "[encoded data removed]",
            "text/plain": [
              "<Figure size 432x288 with 1 Axes>"
            ]
          },
          "metadata": {
            "tags": [],
            "needs_background": "light"
          }
        },
        {
          "output_type": "execute_result",
          "data": {
            "text/plain": [
              "Text(0.5, 1.0, 'Discriminaotr error function')"
            ]
          },
          "metadata": {
            "tags": []
          },
          "execution_count": 37
        },
        {
          "output_type": "display_data",
          "data": {
            "image/png": "[encoded data removed]",
            "text/plain": [
              "<Figure size 432x288 with 1 Axes>"
            ]
          },
          "metadata": {
            "tags": [],
            "needs_background": "light"
          }
        }
      ]
    },
    {
      "cell_type": "markdown",
      "metadata": {
        "id": "loLUtHxB1Idu"
      },
      "source": [
        "**Generated Images**"
      ]
    },
    {
      "cell_type": "code",
      "metadata": {
        "colab": {
          "base_uri": "https://localhost:8080/",
          "height": 1000
        },
        "id": "vb3ENM8e1HzJ",
        "outputId": "6f4cb88d-7f35-4664-8a31-f29fe9c3fa68"
      },
      "source": [
        "generated_images = []\n",
        "for i in range(4):\n",
        "  z = random.random()\n",
        "  generated_image = G.forward(z)\n",
        "  generated_images.append(generated_image)\n",
        "_ = view_samples(generated_images, 1, 4)\n",
        "for i in generated_images:\n",
        "  print(i)"
      ],
      "execution_count": 38,
      "outputs": [
        {
          "output_type": "stream",
          "text": [
            "[5.15580750e-05 2.04756042e-05 1.34411938e-01 4.86888680e-01\n",
            " 5.02474332e-05 6.19333824e-05 1.24492381e-04 1.65288308e-01\n",
            " 6.31342264e-01 4.70934791e-05 9.51181135e-05 6.65529287e-05\n",
            " 6.38090101e-01 2.01444989e-01 5.95623376e-05 1.21762873e-04\n",
            " 1.06674036e-04 1.80024857e-01 5.65818480e-01 4.95252013e-05\n",
            " 9.99514686e-01 9.98965586e-01 9.98903302e-01 9.99354687e-01\n",
            " 9.99155518e-01 9.99624013e-01 9.99326937e-01 9.99538163e-01\n",
            " 9.99602224e-01 9.99125269e-01 5.83866248e-05 1.15468887e-04\n",
            " 1.34377139e-04 4.72742733e-01 5.01271960e-01 3.56466284e-05\n",
            " 6.65032463e-05 1.32515532e-04 1.59410622e-01 1.76071201e-01\n",
            " 4.74086059e-05 1.19861898e-04 7.98450370e-05 2.21790546e-01\n",
            " 3.39289813e-01 4.33021966e-05 1.30505905e-04 6.04299450e-05\n",
            " 5.35546200e-01 8.66465579e-01 9.99188078e-01 9.99205338e-01\n",
            " 9.99400480e-01 9.99294426e-01 9.98701186e-01 9.99582312e-01\n",
            " 9.99316421e-01 9.99623111e-01 9.98656157e-01 9.99314461e-01\n",
            " 1.00844875e-04 5.52860354e-01 5.04724779e-05 7.35427079e-01\n",
            " 3.28405170e-05 8.50981493e-05 5.88355514e-01 3.94109429e-05\n",
            " 2.05062228e-01 7.55914047e-05 2.18271640e-05 2.69132084e-01\n",
            " 7.56509001e-05 7.68307816e-01 9.66591775e-05 1.59355184e-04\n",
            " 3.34736044e-01 6.65627740e-05 1.84279351e-01 5.58338665e-05\n",
            " 9.98723176e-01 9.99064362e-01 9.98303897e-01 9.99647334e-01\n",
            " 9.99443860e-01 9.99155214e-01 9.98983550e-01 9.99490127e-01\n",
            " 9.99550837e-01 9.99550290e-01 9.65332487e-05 1.02238952e-04\n",
            " 1.63455197e-04 7.47515668e-01 7.59592436e-01 7.98569047e-05\n",
            " 1.47052798e-04 1.04294258e-04 4.65197421e-01 6.64576096e-01]\n",
            "[2.85425640e-04 2.81086862e-04 1.63021262e-01 5.12298671e-01\n",
            " 3.10414926e-04 3.13769595e-04 3.94945046e-04 1.99260142e-01\n",
            " 6.61422201e-01 3.37510185e-04 3.64151594e-04 3.49337644e-04\n",
            " 6.67309797e-01 2.82506411e-01 3.48632142e-04 3.24295105e-04\n",
            " 3.48138783e-04 4.13482542e-01 6.52587507e-01 3.23494960e-04\n",
            " 9.98044639e-01 9.98124918e-01 9.97773382e-01 9.97935481e-01\n",
            " 9.97996841e-01 9.98116393e-01 9.97860986e-01 9.98239194e-01\n",
            " 9.97988259e-01 9.98056569e-01 3.57264569e-04 2.96426510e-04\n",
            " 3.54682362e-04 6.08518448e-01 5.02989203e-01 3.04400936e-04\n",
            " 3.20043370e-04 3.09997718e-04 1.90669830e-01 1.83300522e-01\n",
            " 3.03658218e-04 3.53674345e-04 3.71511125e-04 2.11979091e-01\n",
            " 3.97191878e-01 2.57959403e-04 3.50003326e-04 3.06411727e-04\n",
            " 5.05548986e-01 6.60180324e-01 9.97653598e-01 9.97585396e-01\n",
            " 9.97883442e-01 9.97908341e-01 9.97654063e-01 9.98189298e-01\n",
            " 9.97968533e-01 9.98228887e-01 9.97483644e-01 9.97876985e-01\n",
            " 3.79086344e-04 5.23258938e-01 3.49039656e-04 6.04882817e-01\n",
            " 2.57680400e-04 3.29333245e-04 4.61657081e-01 3.19304361e-04\n",
            " 3.12995029e-01 2.94420148e-04 2.19162837e-04 3.14373930e-01\n",
            " 3.70382422e-04 7.32962689e-01 2.63277922e-04 3.96580557e-04\n",
            " 3.59597929e-01 3.11649086e-04 3.66696777e-01 3.03974233e-04\n",
            " 9.97704843e-01 9.97578519e-01 9.96869302e-01 9.98051085e-01\n",
            " 9.98101044e-01 9.97874365e-01 9.97631975e-01 9.97776517e-01\n",
            " 9.98003791e-01 9.97718739e-01 2.96245330e-04 3.28487831e-04\n",
            " 3.08093082e-04 7.57714900e-01 7.21832892e-01 3.61728361e-04\n",
            " 3.79216481e-04 3.99611004e-04 3.56700108e-01 6.42517514e-01]\n",
            "[2.05965937e-04 1.70588037e-04 1.57211676e-01 5.07454374e-01\n",
            " 2.19363980e-04 2.30280239e-04 3.16914667e-04 1.92400113e-01\n",
            " 6.55777593e-01 2.31854257e-04 2.81919780e-04 2.54658702e-04\n",
            " 6.61828402e-01 2.65620318e-01 2.48919962e-04 2.69046563e-04\n",
            " 2.77850887e-04 3.60767856e-01 6.36618107e-01 2.26190813e-04\n",
            " 9.98500650e-01 9.98325904e-01 9.98054510e-01 9.98345842e-01\n",
            " 9.98300885e-01 9.98614391e-01 9.98283971e-01 9.98635579e-01\n",
            " 9.98522782e-01 9.98330863e-01 2.52933854e-04 2.47656019e-04\n",
            " 2.94763030e-04 5.83260279e-01 5.02661763e-01 2.02238310e-04\n",
            " 2.37197563e-04 2.63624339e-04 1.84367492e-01 1.81904489e-01\n",
            " 2.13115163e-04 2.87745135e-04 2.77119460e-04 2.13825168e-01\n",
            " 3.85868505e-01 1.83561221e-04 2.89991123e-04 2.24843762e-04\n",
            " 5.11278581e-01 7.09725541e-01 9.98083186e-01 9.98046210e-01\n",
            " 9.98335662e-01 9.98299585e-01 9.97904066e-01 9.98630817e-01\n",
            " 9.98349301e-01 9.98681184e-01 9.97767186e-01 9.98288393e-01\n",
            " 2.94506385e-04 5.28922417e-01 2.41412539e-04 6.31716948e-01\n",
            " 1.73981514e-04 2.54438161e-04 4.85937340e-01 2.14278034e-04\n",
            " 2.90158926e-01 2.27186726e-04 1.41177970e-04 3.05432230e-01\n",
            " 2.73608737e-04 7.39959703e-01 2.17491367e-04 3.33300971e-04\n",
            " 3.54793758e-01 2.32188968e-04 3.26098800e-01 2.20051206e-04\n",
            " 9.97947558e-01 9.97979835e-01 9.97214421e-01 9.98592884e-01\n",
            " 9.98497272e-01 9.98217136e-01 9.97984464e-01 9.98320520e-01\n",
            " 9.98497655e-01 9.98325784e-01 2.39223251e-04 2.62949731e-04\n",
            " 2.73019821e-04 7.55791922e-01 7.29307450e-01 2.71205842e-04\n",
            " 3.16553237e-04 3.09324145e-04 3.76634872e-01 6.46773994e-01]\n",
            "[1.19528123e-04 7.41660987e-05 1.47899195e-01 4.99373006e-01\n",
            " 1.22940220e-04 1.37460402e-04 2.19537132e-04 1.81362832e-01\n",
            " 6.46266281e-01 1.23946678e-04 1.83965128e-04 1.50309216e-04\n",
            " 6.52590378e-01 2.38933365e-01 1.41918990e-04 1.97037462e-04\n",
            " 1.90750524e-04 2.80294754e-01 6.09319052e-01 1.24538776e-04\n",
            " 9.99037318e-01 9.98614381e-01 9.98446748e-01 9.98857117e-01\n",
            " 9.98708920e-01 9.99169887e-01 9.98811856e-01 9.99108441e-01\n",
            " 9.99117662e-01 9.98705026e-01 1.42186005e-04 1.83505565e-04\n",
            " 2.16490278e-04 5.40213983e-01 5.02115696e-01 1.02254668e-04\n",
            " 1.43922511e-04 2.01196239e-04 1.74218025e-01 1.79594779e-01\n",
            " 1.18073043e-04 2.03976657e-04 1.69958295e-04 2.16929793e-01\n",
            " 3.67261786e-01 1.04070770e-04 2.11907892e-04 1.34179111e-04\n",
            " 5.20826344e-01 7.82030543e-01 9.98632121e-01 9.98627781e-01\n",
            " 9.98885535e-01 9.98796341e-01 9.98263246e-01 9.99141122e-01\n",
            " 9.98832452e-01 9.99193670e-01 9.98170900e-01 9.98805129e-01\n",
            " 1.93298276e-04 5.38349993e-01 1.30530073e-04 6.74644229e-01\n",
            " 9.03670148e-05 1.65462009e-04 5.26519863e-01 1.10169253e-04\n",
            " 2.54361392e-01 1.47439751e-04 6.77979771e-05 2.90843377e-01\n",
            " 1.65110198e-04 7.51360829e-01 1.58148012e-04 2.49417223e-04\n",
            " 3.46847090e-01 1.42119607e-04 2.64019844e-01 1.28382696e-04\n",
            " 9.98296684e-01 9.98506902e-01 9.97707625e-01 9.99182893e-01\n",
            " 9.98983024e-01 9.98670448e-01 9.98459677e-01 9.98948445e-01\n",
            " 9.99065011e-01 9.99000943e-01 1.67476122e-04 1.81420258e-04\n",
            " 2.23181382e-04 7.52562114e-01 7.41487896e-01 1.67756726e-04\n",
            " 2.34220057e-04 2.01795023e-04 4.10797195e-01 6.53820644e-01]\n"
          ],
          "name": "stdout"
        },
        {
          "output_type": "display_data",
          "data": {
            "image/png": "[encoded data removed]",
            "text/plain": [
              "<Figure size 720x720 with 4 Axes>"
            ]
          },
          "metadata": {
            "tags": [],
            "needs_background": "light"
          }
        }
      ]
    },
    {
      "cell_type": "markdown",
      "metadata": {
        "id": "mHSXDrjo2Icl"
      },
      "source": [
        "**Studying the weights and biases of the Generator and Discriminator**"
      ]
    },
    {
      "cell_type": "code",
      "metadata": {
        "colab": {
          "base_uri": "https://localhost:8080/"
        },
        "id": "3lrnqhSR2Mqu",
        "outputId": "7dffba02-1f86-4b40-f327-a9fa44a9bc08"
      },
      "source": [
        "print(\"Generator Weights\" , G.weights)\n",
        "print(\"Generator Biases\" , G.biases)"
      ],
      "execution_count": 31,
      "outputs": [
        {
          "output_type": "stream",
          "text": [
            "Generator Weights [-3.05168584 -4.67101421 -0.40400463 -0.18126733 -3.24729258 -2.89361018\n",
            " -2.05900654 -0.40737167 -0.23475335 -3.5121472  -2.39412421 -2.95685947\n",
            " -0.22993816 -0.79385383 -3.15113744 -1.74698936 -2.10945286 -2.08008087\n",
            " -0.65191854 -3.34672432  2.4873536   1.06208502  1.26473245  2.07606367\n",
            "  1.54218283  2.87586458  2.06427942  2.38858874  2.89295171  1.42529776\n",
            " -3.2303146  -1.68137026 -1.7309628  -0.98107551 -0.01224789 -3.82455075\n",
            " -2.80197589 -1.5156605  -0.38684176 -0.08746075 -3.31174002 -1.92973176\n",
            " -2.74192928  0.10301468 -0.4444785  -3.1823951  -1.75940419 -2.89510701\n",
            "  0.2143718   2.15028498  1.89496335  1.98451859  2.25186729  1.94010731\n",
            "  1.05606376  2.61773394  1.94444278  2.76158921  1.12055834  2.01809327\n",
            " -2.36156398  0.21241639 -3.44850042  1.06355187 -3.67356638 -2.41336181\n",
            "  0.91085684 -3.73080071 -1.01418663 -2.42472865 -4.11322    -0.39098733\n",
            " -2.83271936  0.33712725 -1.78693784 -1.62609903 -0.19565648 -2.75297463\n",
            " -1.67820694 -3.02191604  1.04744046  1.69815724  1.09543068  3.05096835\n",
            "  2.1920419   1.64757355  1.51040351  2.62888773  2.66237985  2.89871695\n",
            " -1.99968042 -2.08154546 -1.13046149 -0.09768565  0.35103565 -2.6940659\n",
            " -1.68951619 -2.39564111  0.80286722  0.17375119]\n",
            "Generator Biases [-6.91689691e+00 -6.27192637e+00 -1.47118226e+00  1.23117653e-01\n",
            " -6.75318354e+00 -6.88664763e+00 -6.99679432e+00 -1.22481620e+00\n",
            "  7.65360820e-01 -6.56147426e+00 -6.94135489e+00 -6.75344173e+00\n",
            "  7.89801589e-01 -6.08363211e-01 -6.67624579e+00 -7.32118493e+00\n",
            " -7.10241673e+00  4.98580655e-01  8.96256854e-01 -6.67135279e+00\n",
            "  5.22098720e+00  5.84415349e+00  5.58933870e+00  5.33426156e+00\n",
            "  5.58218858e+00  5.10002718e+00  5.30354433e+00  5.36625738e+00\n",
            "  5.02711957e+00  5.66017986e+00 -6.61949284e+00 -7.43782406e+00\n",
            " -7.23812076e+00  8.41129368e-01  1.69511205e-02 -6.53737259e+00\n",
            " -6.90420831e+00 -7.46061421e+00 -1.28792618e+00 -1.45848145e+00\n",
            " -6.74891848e+00 -7.15991839e+00 -6.77951897e+00 -1.35504195e+00\n",
            " -2.35940180e-01 -6.96480607e+00 -7.23980825e+00 -6.90977388e+00\n",
            " -6.52147732e-02 -2.12696118e-01  5.27983825e+00  5.21460079e+00\n",
            "  5.23763023e+00  5.37661155e+00  5.62210396e+00  5.24482843e+00\n",
            "  5.40410326e+00  5.20831658e+00  5.52550811e+00  5.32990093e+00\n",
            " -6.91442286e+00  6.48865243e-03 -6.55382530e+00 -7.81849208e-03\n",
            " -6.76560992e+00 -7.03404556e+00 -5.25081753e-01 -6.52778588e+00\n",
            " -3.72612394e-01 -7.14150789e+00 -6.74828161e+00 -6.20321384e-01\n",
            " -6.74554256e+00  8.72240370e-01 -7.51340040e+00 -7.16918125e+00\n",
            " -4.97329346e-01 -6.95077601e+00  1.37886789e-01 -6.86605581e+00\n",
            "  5.64755475e+00  5.32851569e+00  5.31669404e+00  4.99447762e+00\n",
            "  5.37072979e+00  5.47974705e+00  5.42745055e+00  5.03450659e+00\n",
            "  5.12890294e+00  4.89877057e+00 -7.30864240e+00 -7.17191723e+00\n",
            " -7.62384674e+00  1.18002408e+00  8.10434335e-01 -6.82573065e+00\n",
            " -7.18811177e+00 -6.84777955e+00 -9.17090445e-01  5.15459418e-01]\n"
          ],
          "name": "stdout"
        }
      ]
    },
    {
      "cell_type": "code",
      "metadata": {
        "colab": {
          "base_uri": "https://localhost:8080/"
        },
        "id": "GEugzt2J2c7z",
        "outputId": "3e6dbd01-430d-4f7e-fa2b-b1818bc4cf01"
      },
      "source": [
        "print(\"Discriminator Weights\" , D.weights)\n",
        "print(\"Discriminator Biases\" , D.bias)"
      ],
      "execution_count": 32,
      "outputs": [
        {
          "output_type": "stream",
          "text": [
            "Discriminator Weights [-2.91370004 -2.5726346  -0.54231362 -0.63403655 -2.74282854 -2.78376483\n",
            " -2.52078317  1.35447915  0.45144938 -2.55247718 -2.57194078 -2.58979836\n",
            " -0.01565281  1.20753695 -2.59876773 -2.8196961  -2.66548231 -0.00858314\n",
            " -0.36990611 -2.61016531  0.92606112  0.69270416  0.39418233  0.51105038\n",
            "  0.68128866  0.38769648  0.364496    0.38681888  0.45090891  0.59286658\n",
            " -2.53349094 -3.00282815 -2.63858949  0.49504621 -0.07682385 -2.62085032\n",
            " -2.77291891 -2.88590553  0.39137705 -0.87797594 -2.74588165 -2.64277734\n",
            " -2.52577126 -1.17282465  1.16423283 -3.1265984  -2.65790048 -2.82870004\n",
            " -1.28877537 -0.20181774  0.64842515  0.61770568  0.58428604  0.50705966\n",
            "  0.37733995  0.20386464  0.56231768  0.38925086  0.53904948  0.56140052\n",
            " -2.49470536 -0.34466443 -2.54236902  1.59550411 -2.97703738 -2.73642655\n",
            "  0.11395156 -2.62384101 -1.19405892 -2.96919013 -3.2072768  -0.53738383\n",
            " -2.50958391 -0.37295815 -3.37061535 -2.46497409  1.14231474 -2.79499797\n",
            "  0.0243718  -2.799172    0.20619074  0.25832507  0.48051441  0.38732963\n",
            "  0.43406991  0.36243741  0.3967789   0.4443988   0.47029155  0.09298008\n",
            " -2.99117873 -2.78959399 -2.93239643 -0.00654324 -0.8188597  -2.56301665\n",
            " -2.54400647 -2.48727092  0.54161506 -0.11055303]\n",
            "Discriminator Biases -13.832989486815691\n"
          ],
          "name": "stdout"
        }
      ]
    }
  ]
}